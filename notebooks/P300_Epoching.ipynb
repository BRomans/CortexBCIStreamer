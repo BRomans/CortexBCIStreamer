{
 "cells": [
  {
   "cell_type": "markdown",
   "metadata": {
    "collapsed": false
   },
   "source": [
    "[![Open In Colab](https://colab.research.google.com/assets/colab-badge.svg)](https://colab.research.google.com/github/BRomans/UnicornPythonEssentialsToolkit/blob/main/notebooks/P300_Epoching.ipynb)\n",
    "\n"
   ]
  },
  {
   "cell_type": "code",
   "execution_count": null,
   "metadata": {
    "colab": {
     "base_uri": "https://localhost:8080/"
    },
    "id": "yOz1fpJwUCoU",
    "outputId": "da4799e6-ac11-499c-e10a-f2bee0a76645"
   },
   "outputs": [],
   "source": [
    "!pip install mne # Use only on Google Colab"
   ]
  },
  {
   "cell_type": "code",
   "execution_count": null,
   "metadata": {
    "collapsed": false
   },
   "outputs": [],
   "source": [
    "import pandas as pd\n",
    "import numpy as np\n",
    "import matplotlib\n",
    "import matplotlib.pyplot as plt\n",
    "from utils.loader import load_data, unicorn_channels, convert_to_mne\n",
    "from brainflow import BoardIds, BoardShim, BrainFlowInputParams\n",
    "\n",
    "#%matplotlib inline\n",
    "matplotlib.use(\"Qt5Agg\")\n",
    "\n",
    "path_data = '../data'\n",
    "path_mount = ''"
   ]
  },
  {
   "cell_type": "code",
   "execution_count": null,
   "metadata": {
    "colab": {
     "base_uri": "https://localhost:8080/",
     "height": 836
    },
    "id": "VavBXHaTWJej",
    "outputId": "ad920c20-4174-4a76-8667-ca7c330658ac",
    "scrolled": true
   },
   "outputs": [],
   "source": [
    "board_id = BoardIds.UNICORN_BOARD\n",
    "board = BoardShim(board_id, BrainFlowInputParams())\n",
    "fs = board.get_sampling_rate(board_id)\n",
    "chs = board.get_eeg_channels(board_id)\n",
    "\n",
    "eeg, trigger, dataframe = load_data(\"../session.csv\", board=board_id, header='uni_raw', fs=fs, skiprows=5, delimiter='\\t')\n",
    "plt.plot(trigger)\n",
    "plt.show()\n",
    "dataframe"
   ]
  },
  {
   "cell_type": "markdown",
   "metadata": {
    "collapsed": false
   },
   "source": [
    "#### Convert to MNE format\n",
    "MNE is a popular Python library for EEG data analysis. It provides a simple and intuitive way to work with EEG data, and it is widely used in the scientific community. The library provides many useful tools for EEG data analysis, such as data visualization, signal processing, and machine learning. In this section, we will convert the EEG data to the MNE format, so that we can use the library to analyze the data.\n",
    "Documentation: [MNE](https://mne.tools/stable/index.html)"
   ]
  },
  {
   "cell_type": "code",
   "execution_count": null,
   "metadata": {
    "colab": {
     "base_uri": "https://localhost:8080/",
     "height": 1000
    },
    "id": "mQtfaMEibbWp",
    "outputId": "2007e034-22a6-4bc7-80f7-0a3fcfef9809"
   },
   "outputs": [],
   "source": [
    "# Convert to MNE format\n",
    "raw_data = convert_to_mne(eeg, trigger, fs=fs, chs=unicorn_channels, recompute=False) # recompute=True to recalculate the event labels if the values are negative"
   ]
  },
  {
   "cell_type": "code",
   "execution_count": null,
   "metadata": {
    "colab": {
     "base_uri": "https://localhost:8080/",
     "height": 396
    },
    "id": "3xxOBk0KY79c",
    "outputId": "fe4fb0cd-ce2f-4d21-a8de-c928118af818"
   },
   "outputs": [],
   "source": [
    "# Compute PSD\n",
    "Pxx = raw_data.compute_psd(fmin=0, fmax=fs/2)\n",
    "Pxx.plot()\n",
    "plt.show()"
   ]
  },
  {
   "cell_type": "code",
   "execution_count": null,
   "metadata": {
    "colab": {
     "base_uri": "https://localhost:8080/",
     "height": 647
    },
    "id": "AkrqShxWdb4b",
    "outputId": "f79d6d82-1495-419e-cbfd-ac9293f9e36f"
   },
   "outputs": [],
   "source": [
    "filtered = raw_data.copy() # the method filters the signal in-place, so this time I\n",
    "                      # want to preserve the original signal and filter just a\n",
    "                      # temporary copy of it\n",
    "\n",
    "# remove power line noise\n",
    "filtered.notch_filter(50) \n",
    "filtered.notch_filter(60) \n",
    "# Apply band-pass filtering\n",
    "filtered.filter(1,40) \n",
    "\n",
    "pxx_filt = filtered.compute_psd(fmin=0, fmax=50)\n",
    "pxx_filt.plot()\n",
    "plt.show()"
   ]
  },
  {
   "cell_type": "markdown",
   "metadata": {
    "collapsed": false
   },
   "source": [
    "### Data Analysis\n",
    "\n",
    "\n",
    "1. Mark the events with custom labels \n",
    "2. Epoching and baseline correction\n",
    "3. Extract EEG data from epoch and define baseline segment.\n",
    "4. Compute average P300 across epochs and channels.\n",
    "5. Visualize ERPs for each channel.\n",
    "6. Compute time-frequency representation using Morlet wavelets.\n",
    "7. Compute power spectral density (PSD) and plot topographic map."
   ]
  },
  {
   "cell_type": "markdown",
   "metadata": {
    "collapsed": false
   },
   "source": [
    "#### 1. Mark the events with custom labels\n",
    "To extract events we need to provide the raw data and the name of the channel that contains the trigger information. The function `find_events()` will return a numpy array with the events and the event ids. We can also assign colors to the events to visualize them in the plot."
   ]
  },
  {
   "cell_type": "code",
   "execution_count": null,
   "metadata": {
    "colab": {
     "base_uri": "https://localhost:8080/",
     "height": 893
    },
    "id": "IRl2NOUHeC9g",
    "outputId": "21c6f466-5a11-4e7b-eadf-5eb27040ca5f"
   },
   "outputs": [],
   "source": [
    "from mne import find_events\n",
    "\n",
    "ev_ids = {'NT': 2, 'T':1}\n",
    "event_colors = {2:'r', 1:'g'}\n",
    "stim_channel = 'STI'\n",
    "events = find_events(filtered, stim_channel=stim_channel)\n",
    "filtered.plot(events=events, event_id=ev_ids, event_color=event_colors, color = 'Gray', block = True, clipping=None, scalings=25e-6)\n",
    "plt.show()"
   ]
  },
  {
   "cell_type": "markdown",
   "metadata": {
    "collapsed": false
   },
   "source": [
    "#### 2.Epoching and baseline correction\n",
    "The next step is to create the epochs. We need to provide the raw data, the events, and the event ids. We can also specify the time window for the epochs and the baseline correction. `tmin` and `tmax`  parameters define the time window extracted as single epoch relatively to the single event, `baseline` is the timespan from which the data for the baseline correction is extracted.The function `Epochs()` will return an object with the epochs."
   ]
  },
  {
   "cell_type": "code",
   "execution_count": null,
   "metadata": {
    "colab": {
     "base_uri": "https://localhost:8080/",
     "height": 934
    },
    "id": "JpRB9SstcmCF",
    "outputId": "617f656b-c3c9-46b3-853b-96ad44e02422"
   },
   "outputs": [],
   "source": [
    "# creating the Epochs object combining EEG data and events info\n",
    "from mne import Epochs\n",
    "\n",
    "eps = Epochs(filtered, events, event_id=ev_ids,\n",
    "             tmin=-.6, tmax=0.8, baseline=(-.6,-.1))\n",
    "            \n",
    "eps.plot(block=True)# .plot() method for Epoch objects has not clipping parameter\n",
    "plt.show()"
   ]
  },
  {
   "cell_type": "markdown",
   "metadata": {
    "collapsed": false
   },
   "source": [
    "#### 3.Compute average P300 across epochs. \n",
    "The next step is to compute the average P300 across epochs. We can choose the target and the baseline period. The function `average()` will return an object with the average P300 across epochs."
   ]
  },
  {
   "cell_type": "code",
   "execution_count": null,
   "metadata": {
    "colab": {
     "base_uri": "https://localhost:8080/",
     "height": 484
    },
    "id": "WJbCgCUUjR1K",
    "outputId": "d323fc1d-15cc-4c99-93ee-39b2423944d4"
   },
   "outputs": [],
   "source": [
    "# Choose target\n",
    "target = \"T\"\n",
    "\n",
    "# Baseline period\n",
    "baseline=(-.6,-.1)\n",
    "\n",
    "# Average epochs across specified channels\n",
    "average_channels = eps[target].average(picks=unicorn_channels)\n",
    "average_channels.apply_baseline(baseline)\n",
    "fig = average_channels.plot_joint(times=[-0.4, -0.3, 0.05, 0.1, 0.2, 0.3, 0.4, 0.6], title=\"Average P300 across epochs\", show=False)\n",
    "fig.show()"
   ]
  },
  {
   "cell_type": "markdown",
   "metadata": {
    "collapsed": false
   },
   "source": [
    "#### 4. Visualize ERPs for each channel\n",
    "The next step is to visualize the ERPs for each channel. We can choose the target and the baseline period. The function `plot()` will return a plot with the ERPs for each channel. We can also add vertical colored lines to mark the time windows of interest."
   ]
  },
  {
   "cell_type": "code",
   "execution_count": null,
   "metadata": {
    "colab": {
     "base_uri": "https://localhost:8080/",
     "height": 1000
    },
    "id": "vY0uuuYHS1fs",
    "outputId": "8ab2239b-ab79-4cf7-9883-c2f54a966e4c"
   },
   "outputs": [],
   "source": [
    "for channel in unicorn_channels[0:3]:\n",
    "  average_epochs = eps[target].average(method=\"mean\")\n",
    "  average_epochs.apply_baseline(baseline)\n",
    "  try:\n",
    "      fig = average_epochs.plot(picks=channel, titles=\"Average P300 - \" + channel, show=False)\n",
    "      axes = fig.get_axes()\n",
    "    \n",
    "      for ax in axes:\n",
    "          ax.axvspan(0.12, 0.17, color='lightblue', label=\"N100\", alpha=0.5)\n",
    "          ax.axvspan(0.17, 0.21, color='orange', label=\"P200\", alpha=0.5)\n",
    "          ax.axvspan(0.21, 0.25, color='blue', label=\"N200\", alpha=0.3)\n",
    "          ax.axvspan(0.25, 0.4, color='red', label=\"P300\", alpha=0.3)\n",
    "      fig.legend(loc='upper right', frameon=True)\n",
    "      fig.set_size_inches(10, 5)\n",
    "    \n",
    "      # Show the plot\n",
    "      fig.show()\n",
    "  except Exception as e:\n",
    "      print(e)"
   ]
  },
  {
   "cell_type": "markdown",
   "metadata": {
    "collapsed": false
   },
   "source": [
    "#### 5. Compute time-frequency representation using Morlet wavelets.\n",
    "An alternative way to visualize the P300 is to compute the time-frequency representation using Morlet wavelets. We can choose the target and the frequency range. The function `tfr_morlet()` will return an object with the time-frequency representation."
   ]
  },
  {
   "cell_type": "code",
   "execution_count": null,
   "metadata": {
    "id": "7bI23tEzS81K"
   },
   "outputs": [],
   "source": [
    "from mne.time_frequency import tfr_morlet\n",
    "#Choose target\n",
    "target = \"T\"\n",
    "\n",
    "# create a time-frequency representation using Morlet wavelets\n",
    "freqs = np.logspace(*np.log10([6, 35]), num=8)\n",
    "tfr, itc = tfr_morlet(eps[target], freqs, n_cycles=5, average=True, return_itc=True)\n",
    "\n",
    "# Apply baseline correction using mean power in the time range of interest\n",
    "baseline=(-.6,-.1)\n",
    "tfr.apply_baseline(baseline, mode='mean')\n",
    "\n",
    "for channel in unicorn_channels[0:3]:\n",
    "    try:\n",
    "        tfr.plot(mode='zlogratio', picks=channel, fmin=1, fmax=20, cmap='viridis', title=channel)\n",
    "        plt.show()\n",
    "    except Exception as e:\n",
    "        print(e)"
   ]
  },
  {
   "cell_type": "markdown",
   "metadata": {
    "collapsed": false
   },
   "source": [
    "#### 6. Compute power spectral density (PSD) and plot topographic map.\n",
    "The last step is to compute the power spectral density (PSD) and plot the topographic map. We can choose the target and the frequency range. The function `compute_psd()` will return an object with the PSD. We can also plot the topographic map using the function `plot_topomap()`. The topographic map will show the distribution of the power across the scalp in each frequency band."
   ]
  },
  {
   "cell_type": "code",
   "execution_count": null,
   "metadata": {
    "colab": {
     "base_uri": "https://localhost:8080/",
     "height": 281
    },
    "id": "-OG1OYROr7Ji",
    "outputId": "89299940-8d48-4c3c-8130-c8f8e4bf67e8"
   },
   "outputs": [],
   "source": [
    "epo_spectrum = eps[\"T\"].compute_psd()\n",
    "psds, freqs = epo_spectrum.get_data(return_freqs=True)\n",
    "print(f'\\nPSDs shape: {psds.shape}, freqs shape: {freqs.shape}')\n",
    "evoked = eps[\"T\"].average()\n",
    "evk_spectrum = evoked.compute_psd()\n",
    "fig = evk_spectrum.plot_topomap(ch_type='eeg', agg_fun=np.median)\n",
    "fig.show()"
   ]
  }
 ],
 "metadata": {
  "colab": {
   "provenance": []
  },
  "kernelspec": {
   "display_name": "Python 3 (ipykernel)",
   "language": "python",
   "name": "python3"
  },
  "language_info": {
   "codemirror_mode": {
    "name": "ipython",
    "version": 3
   },
   "file_extension": ".py",
   "mimetype": "text/x-python",
   "name": "python",
   "nbconvert_exporter": "python",
   "pygments_lexer": "ipython3",
   "version": "3.10.8"
  }
 },
 "nbformat": 4,
 "nbformat_minor": 4
}
